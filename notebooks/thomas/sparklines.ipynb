{
 "cells": [
  {
   "cell_type": "code",
   "execution_count": null,
   "metadata": {},
   "outputs": [],
   "source": [
    "import os\n",
    "import polars as pl\n",
    "import plotly.graph_objects as go\n",
    "from plotly.subplots import make_subplots"
   ]
  },
  {
   "cell_type": "code",
   "execution_count": null,
   "metadata": {},
   "outputs": [],
   "source": [
    "kaggle_run_type = os.environ.get('KAGGLE_KERNEL_RUN_TYPE', None)\n",
    "if kaggle_run_type:\n",
    "    DATA_PATH = \"/kaggle/input/linking-writing-processes-to-writing-quality\"\n",
    "else:\n",
    "    DATA_PATH = \"../../data\""
   ]
  },
  {
   "cell_type": "code",
   "execution_count": null,
   "metadata": {},
   "outputs": [],
   "source": [
    "logs = pl.read_csv(f\"{DATA_PATH}/train_logs.csv\")\n",
    "scores = pl.read_csv(f\"{DATA_PATH}/train_scores.csv\")"
   ]
  },
  {
   "cell_type": "code",
   "execution_count": null,
   "metadata": {},
   "outputs": [],
   "source": [
    "def agg_log_data(essay_id, resolution_ms, max_events_clip, max_time_ms):\n",
    "    df = (\n",
    "        logs\n",
    "        .filter(pl.col(\"id\").eq(essay_id))\n",
    "        .sort(\"down_time\")\n",
    "        .group_by_dynamic(\"down_time\", every=f\"{resolution_ms}i\")\n",
    "        .agg(\n",
    "            pl.col(\"id\").filter(pl.col(\"activity\").eq(\"Input\") | pl.col(\"activity\").eq(\"Paste\") | pl.col(\"activity\").eq(\"Replace\")).count().alias(\"input_events\"),\n",
    "            pl.col(\"id\").filter(pl.col(\"activity\").eq(\"Remove/Cut\") | pl.col(\"activity\").eq(\"Replace\")).count().alias(\"remove_events\"),\n",
    "            pl.col(\"id\").filter(pl.col(\"activity\").eq(\"Nonproduction\")).count().alias(\"nonproduction_events\"),\n",
    "            pl.col(\"word_count\").last()\n",
    "        )\n",
    "    )\n",
    "    df = (\n",
    "        pl.DataFrame({\"down_time\": pl.int_range(0, max_time_ms, step=resolution_ms, eager=True)})\n",
    "        .join(df, how=\"left\", on=\"down_time\")\n",
    "        .filter(pl.col(\"down_time\").le(max_time_ms))\n",
    "        .with_columns(\n",
    "            pl.col(\"down_time\").floordiv(resolution_ms),\n",
    "            pl.col(\"input_events\").fill_null(0).clip(upper_bound=max_events_clip),\n",
    "            pl.col(\"remove_events\").fill_null(0).clip(upper_bound=max_events_clip).mul(-1),\n",
    "            pl.col(\"nonproduction_events\").fill_null(0).clip(upper_bound=max_events_clip),\n",
    "            pl.col(\"word_count\").fill_null(strategy=\"forward\")\n",
    "        )\n",
    "    )\n",
    "    return(df)\n"
   ]
  },
  {
   "cell_type": "code",
   "execution_count": null,
   "metadata": {},
   "outputs": [],
   "source": [
    "def sample_sparklines(\n",
    "        scores_per_column_dict,\n",
    "        essays_to_sample_for_rows=5,\n",
    "        resolution_ms=5_000,\n",
    "        max_events_clip=60,\n",
    "        max_word_count_clip=600,\n",
    "        max_time_ms=2_000_000,\n",
    "        plot_width=800, row_height=100):\n",
    "    \n",
    "    column_titles = [k for k in scores_per_column_dict.keys()]\n",
    "    scores_per_column_list = [v for v in scores_per_column_dict.values()]\n",
    "\n",
    "    cols = len(scores_per_column_list)\n",
    "    rows = essays_to_sample_for_rows\n",
    "\n",
    "    single_spec = {\"secondary_y\": True}\n",
    "    specs = [[single_spec for _ in range(cols)] for _ in range(rows)]\n",
    "\n",
    "    fig = make_subplots(\n",
    "        rows = rows, cols = cols,\n",
    "        column_titles = column_titles,\n",
    "        specs=specs,\n",
    "        horizontal_spacing=0.005,\n",
    "        shared_xaxes=\"all\", shared_yaxes=\"all\"\n",
    "    )\n",
    "    subplot_width = plot_width / cols\n",
    "    for col in range(cols):\n",
    "        essay_ids = scores_per_column_list[col].sample(rows)[\"id\"]\n",
    "        for row in range(rows):\n",
    "            essay_id = essay_ids[row]\n",
    "            df = agg_log_data(essay_id, resolution_ms, max_events_clip, max_time_ms)\n",
    "            \n",
    "            fig.add_trace(\n",
    "                go.Bar(\n",
    "                    x=df[\"down_time\"],\n",
    "                    y=df[\"input_events\"],\n",
    "                    marker_color=\"green\",\n",
    "                ), secondary_y=False, row=row+1, col=col+1,\n",
    "            )\n",
    "\n",
    "            fig.add_trace(\n",
    "                go.Bar(\n",
    "                    x=df[\"down_time\"],\n",
    "                    y=df[\"remove_events\"],\n",
    "                    marker_color=\"red\",\n",
    "                ), secondary_y=False, row=row+1, col=col+1,\n",
    "            )\n",
    "\n",
    "            fig.add_trace(\n",
    "                go.Scatter(\n",
    "                    x=df[\"down_time\"],\n",
    "                    y=df[\"word_count\"],\n",
    "                    mode=\"lines\",\n",
    "                    marker_color=\"black\",\n",
    "                    opacity=0.5,\n",
    "                ), secondary_y=True, row=row+1, col=col+1,\n",
    "            )\n",
    "\n",
    "    fig.update_xaxes(visible=False)\n",
    "    fig.update_yaxes(visible=False)\n",
    "    fig.update_yaxes(range=[0, max_word_count_clip], secondary_y=True, matches=\"y2\")\n",
    "    fig.update_layout(\n",
    "        barmode=\"relative\",\n",
    "        showlegend=False,\n",
    "        plot_bgcolor=\"white\",\n",
    "        autosize=False,\n",
    "        width=plot_width,\n",
    "        height=row_height*rows,\n",
    "        margin=dict(t=50,l=10,b=10,r=10)\n",
    "    )\n",
    "\n",
    "    return(fig)"
   ]
  },
  {
   "cell_type": "code",
   "execution_count": null,
   "metadata": {},
   "outputs": [],
   "source": [
    "scores_per_column_dict = {\n",
    "    \"score = [0.5, 1.5]\": scores.filter(pl.col(\"score\").is_between(0.5, 1.5)),\n",
    "    \"score = [2.0, 3.0]\": scores.filter(pl.col(\"score\").is_between(2.0, 3.0)),\n",
    "    \"score = [3.5, 4.5]\": scores.filter(pl.col(\"score\").is_between(3.5, 4.5)),\n",
    "    \"score = [5.0, 6.0]\": scores.filter(pl.col(\"score\").is_between(5.0, 6.0)),\n",
    "}\n",
    "fig = sample_sparklines(scores_per_column_dict, plot_width=1600, essays_to_sample_for_rows=10)\n",
    "fig.show()"
   ]
  },
  {
   "cell_type": "code",
   "execution_count": null,
   "metadata": {},
   "outputs": [],
   "source": []
  }
 ],
 "metadata": {
  "kernelspec": {
   "display_name": "venv",
   "language": "python",
   "name": "python3"
  },
  "language_info": {
   "codemirror_mode": {
    "name": "ipython",
    "version": 3
   },
   "file_extension": ".py",
   "mimetype": "text/x-python",
   "name": "python",
   "nbconvert_exporter": "python",
   "pygments_lexer": "ipython3",
   "version": "3.10.11"
  }
 },
 "nbformat": 4,
 "nbformat_minor": 2
}
