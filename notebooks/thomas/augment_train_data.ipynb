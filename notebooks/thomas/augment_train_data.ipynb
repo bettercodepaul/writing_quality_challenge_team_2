{
 "cells": [
  {
   "cell_type": "code",
   "execution_count": 1,
   "metadata": {},
   "outputs": [],
   "source": [
    "import os\n",
    "import polars as pl"
   ]
  },
  {
   "cell_type": "code",
   "execution_count": 2,
   "metadata": {},
   "outputs": [],
   "source": [
    "kaggle_run_type = os.environ.get('KAGGLE_KERNEL_RUN_TYPE', None)\n",
    "if kaggle_run_type:\n",
    "    DATA_PATH = \"/kaggle/input/linking-writing-processes-to-writing-quality\"\n",
    "else:\n",
    "    DATA_PATH = \"../../data\""
   ]
  },
  {
   "cell_type": "code",
   "execution_count": 3,
   "metadata": {},
   "outputs": [],
   "source": [
    "logs = pl.read_csv(f\"{DATA_PATH}/train_logs.csv\")\n",
    "scores = pl.read_csv(f\"{DATA_PATH}/train_scores.csv\")"
   ]
  },
  {
   "cell_type": "code",
   "execution_count": 4,
   "metadata": {},
   "outputs": [
    {
     "data": {
      "text/html": [
       "<div><style>\n",
       ".dataframe > thead > tr > th,\n",
       ".dataframe > tbody > tr > td {\n",
       "  text-align: right;\n",
       "  white-space: pre-wrap;\n",
       "}\n",
       "</style>\n",
       "<small>shape: (4, 11)</small><table border=\"1\" class=\"dataframe\"><thead><tr><th>id</th><th>event_id</th><th>down_time</th><th>up_time</th><th>action_time</th><th>activity</th><th>down_event</th><th>up_event</th><th>text_change</th><th>cursor_position</th><th>word_count</th></tr><tr><td>str</td><td>i64</td><td>i64</td><td>i64</td><td>i64</td><td>str</td><td>str</td><td>str</td><td>str</td><td>i64</td><td>i64</td></tr></thead><tbody><tr><td>&quot;81a86064&quot;</td><td>1140</td><td>422210</td><td>422287</td><td>77</td><td>&quot;Input&quot;</td><td>&quot;q&quot;</td><td>&quot;q&quot;</td><td>&quot;q&quot;</td><td>377</td><td>74</td></tr><tr><td>&quot;568ceeb6&quot;</td><td>2086</td><td>793330</td><td>793428</td><td>98</td><td>&quot;Input&quot;</td><td>&quot;Space&quot;</td><td>&quot;Space&quot;</td><td>&quot; &quot;</td><td>1765</td><td>313</td></tr><tr><td>&quot;54e4b9ea&quot;</td><td>1084</td><td>1420986</td><td>1421062</td><td>76</td><td>&quot;Input&quot;</td><td>&quot;q&quot;</td><td>&quot;q&quot;</td><td>&quot;q&quot;</td><td>649</td><td>146</td></tr><tr><td>&quot;e4898343&quot;</td><td>30</td><td>166587</td><td>166671</td><td>84</td><td>&quot;Remove/Cut&quot;</td><td>&quot;Backspace&quot;</td><td>&quot;Backspace&quot;</td><td>&quot;q&quot;</td><td>3</td><td>1</td></tr></tbody></table></div>"
      ],
      "text/plain": [
       "shape: (4, 11)\n",
       "┌──────────┬──────────┬───────────┬─────────┬───┬───────────┬────────────┬────────────┬────────────┐\n",
       "│ id       ┆ event_id ┆ down_time ┆ up_time ┆ … ┆ up_event  ┆ text_chang ┆ cursor_pos ┆ word_count │\n",
       "│ ---      ┆ ---      ┆ ---       ┆ ---     ┆   ┆ ---       ┆ e          ┆ ition      ┆ ---        │\n",
       "│ str      ┆ i64      ┆ i64       ┆ i64     ┆   ┆ str       ┆ ---        ┆ ---        ┆ i64        │\n",
       "│          ┆          ┆           ┆         ┆   ┆           ┆ str        ┆ i64        ┆            │\n",
       "╞══════════╪══════════╪═══════════╪═════════╪═══╪═══════════╪════════════╪════════════╪════════════╡\n",
       "│ 81a86064 ┆ 1140     ┆ 422210    ┆ 422287  ┆ … ┆ q         ┆ q          ┆ 377        ┆ 74         │\n",
       "│ 568ceeb6 ┆ 2086     ┆ 793330    ┆ 793428  ┆ … ┆ Space     ┆            ┆ 1765       ┆ 313        │\n",
       "│ 54e4b9ea ┆ 1084     ┆ 1420986   ┆ 1421062 ┆ … ┆ q         ┆ q          ┆ 649        ┆ 146        │\n",
       "│ e4898343 ┆ 30       ┆ 166587    ┆ 166671  ┆ … ┆ Backspace ┆ q          ┆ 3          ┆ 1          │\n",
       "└──────────┴──────────┴───────────┴─────────┴───┴───────────┴────────────┴────────────┴────────────┘"
      ]
     },
     "execution_count": 4,
     "metadata": {},
     "output_type": "execute_result"
    }
   ],
   "source": [
    "logs.sample(4)"
   ]
  },
  {
   "cell_type": "code",
   "execution_count": 5,
   "metadata": {},
   "outputs": [
    {
     "data": {
      "text/html": [
       "<div><style>\n",
       ".dataframe > thead > tr > th,\n",
       ".dataframe > tbody > tr > td {\n",
       "  text-align: right;\n",
       "  white-space: pre-wrap;\n",
       "}\n",
       "</style>\n",
       "<small>shape: (4, 2)</small><table border=\"1\" class=\"dataframe\"><thead><tr><th>id</th><th>score</th></tr><tr><td>str</td><td>f64</td></tr></thead><tbody><tr><td>&quot;2d8a6af2&quot;</td><td>4.0</td></tr><tr><td>&quot;62ff8c30&quot;</td><td>4.5</td></tr><tr><td>&quot;6f54beab&quot;</td><td>3.5</td></tr><tr><td>&quot;3938f736&quot;</td><td>5.0</td></tr></tbody></table></div>"
      ],
      "text/plain": [
       "shape: (4, 2)\n",
       "┌──────────┬───────┐\n",
       "│ id       ┆ score │\n",
       "│ ---      ┆ ---   │\n",
       "│ str      ┆ f64   │\n",
       "╞══════════╪═══════╡\n",
       "│ 2d8a6af2 ┆ 4.0   │\n",
       "│ 62ff8c30 ┆ 4.5   │\n",
       "│ 6f54beab ┆ 3.5   │\n",
       "│ 3938f736 ┆ 5.0   │\n",
       "└──────────┴───────┘"
      ]
     },
     "execution_count": 5,
     "metadata": {},
     "output_type": "execute_result"
    }
   ],
   "source": [
    "scores.sample(4)"
   ]
  },
  {
   "cell_type": "code",
   "execution_count": 7,
   "metadata": {},
   "outputs": [
    {
     "data": {
      "text/html": [
       "<div><style>\n",
       ".dataframe > thead > tr > th,\n",
       ".dataframe > tbody > tr > td {\n",
       "  text-align: right;\n",
       "  white-space: pre-wrap;\n",
       "}\n",
       "</style>\n",
       "<small>shape: (4, 5)</small><table border=\"1\" class=\"dataframe\"><thead><tr><th>id</th><th>word_count</th><th>duration</th><th>event_count</th><th>score</th></tr><tr><td>str</td><td>i64</td><td>i64</td><td>u32</td><td>f64</td></tr></thead><tbody><tr><td>&quot;d3a0c370&quot;</td><td>630</td><td>1694295</td><td>5101</td><td>5.0</td></tr><tr><td>&quot;143c8cd1&quot;</td><td>477</td><td>1683095</td><td>3605</td><td>5.0</td></tr><tr><td>&quot;77f85738&quot;</td><td>482</td><td>1765079</td><td>4643</td><td>4.5</td></tr><tr><td>&quot;c238b433&quot;</td><td>517</td><td>1790266</td><td>4717</td><td>4.5</td></tr></tbody></table></div>"
      ],
      "text/plain": [
       "shape: (4, 5)\n",
       "┌──────────┬────────────┬──────────┬─────────────┬───────┐\n",
       "│ id       ┆ word_count ┆ duration ┆ event_count ┆ score │\n",
       "│ ---      ┆ ---        ┆ ---      ┆ ---         ┆ ---   │\n",
       "│ str      ┆ i64        ┆ i64      ┆ u32         ┆ f64   │\n",
       "╞══════════╪════════════╪══════════╪═════════════╪═══════╡\n",
       "│ d3a0c370 ┆ 630        ┆ 1694295  ┆ 5101        ┆ 5.0   │\n",
       "│ 143c8cd1 ┆ 477        ┆ 1683095  ┆ 3605        ┆ 5.0   │\n",
       "│ 77f85738 ┆ 482        ┆ 1765079  ┆ 4643        ┆ 4.5   │\n",
       "│ c238b433 ┆ 517        ┆ 1790266  ┆ 4717        ┆ 4.5   │\n",
       "└──────────┴────────────┴──────────┴─────────────┴───────┘"
      ]
     },
     "execution_count": 7,
     "metadata": {},
     "output_type": "execute_result"
    }
   ],
   "source": [
    "essays = (\n",
    "    logs\n",
    "    .sort(\"event_id\")\n",
    "    .group_by(\"id\")\n",
    "    .agg(\n",
    "        pl.col(\"word_count\").last(),\n",
    "        pl.col(\"up_time\").last().sub(pl.col(\"down_time\").first()).alias(\"duration\"),\n",
    "        pl.count().alias(\"event_count\")\n",
    "    )\n",
    "    .join(scores, on=\"id\")\n",
    ")\n",
    "essays.sample(4)"
   ]
  },
  {
   "cell_type": "code",
   "execution_count": 9,
   "metadata": {},
   "outputs": [
    {
     "data": {
      "text/html": [
       "<div><style>\n",
       ".dataframe > thead > tr > th,\n",
       ".dataframe > tbody > tr > td {\n",
       "  text-align: right;\n",
       "  white-space: pre-wrap;\n",
       "}\n",
       "</style>\n",
       "<small>shape: (4, 2)</small><table border=\"1\" class=\"dataframe\"><thead><tr><th>x</th><th>shifted</th></tr><tr><td>i64</td><td>i64</td></tr></thead><tbody><tr><td>1</td><td>null</td></tr><tr><td>2</td><td>1</td></tr><tr><td>3</td><td>2</td></tr><tr><td>4</td><td>3</td></tr></tbody></table></div>"
      ],
      "text/plain": [
       "shape: (4, 2)\n",
       "┌─────┬─────────┐\n",
       "│ x   ┆ shifted │\n",
       "│ --- ┆ ---     │\n",
       "│ i64 ┆ i64     │\n",
       "╞═════╪═════════╡\n",
       "│ 1   ┆ null    │\n",
       "│ 2   ┆ 1       │\n",
       "│ 3   ┆ 2       │\n",
       "│ 4   ┆ 3       │\n",
       "└─────┴─────────┘"
      ]
     },
     "execution_count": 9,
     "metadata": {},
     "output_type": "execute_result"
    }
   ],
   "source": [
    "pl.DataFrame({\n",
    "    \"x\": [1, 2, 3, 4]\n",
    "}).with_columns(\n",
    "    pl.col(\"x\").shift().alias(\"shifted\")\n",
    ")"
   ]
  },
  {
   "cell_type": "code",
   "execution_count": 26,
   "metadata": {},
   "outputs": [
    {
     "name": "stdout",
     "output_type": "stream",
     "text": [
      "Additional training samples with same scores: 4918\n"
     ]
    },
    {
     "data": {
      "text/html": [
       "<div><style>\n",
       ".dataframe > thead > tr > th,\n",
       ".dataframe > tbody > tr > td {\n",
       "  text-align: right;\n",
       "  white-space: pre-wrap;\n",
       "}\n",
       "</style>\n",
       "<small>shape: (5, 4)</small><table border=\"1\" class=\"dataframe\"><thead><tr><th>id</th><th>id_right</th><th>score</th><th>id_left</th></tr><tr><td>str</td><td>str</td><td>f64</td><td>str</td></tr></thead><tbody><tr><td>&quot;c3663a2d315bda…</td><td>&quot;315bdafd&quot;</td><td>0.5</td><td>&quot;c3663a2d&quot;</td></tr><tr><td>&quot;3bda31e6c3663a…</td><td>&quot;c3663a2d&quot;</td><td>0.5</td><td>&quot;3bda31e6&quot;</td></tr><tr><td>&quot;1ebb9b743bda31…</td><td>&quot;3bda31e6&quot;</td><td>0.5</td><td>&quot;1ebb9b74&quot;</td></tr><tr><td>&quot;40b285081ebb9b…</td><td>&quot;1ebb9b74&quot;</td><td>0.5</td><td>&quot;40b28508&quot;</td></tr><tr><td>&quot;95acfe175a3f0d…</td><td>&quot;5a3f0d07&quot;</td><td>1.0</td><td>&quot;95acfe17&quot;</td></tr></tbody></table></div>"
      ],
      "text/plain": [
       "shape: (5, 4)\n",
       "┌──────────────────┬──────────┬───────┬──────────┐\n",
       "│ id               ┆ id_right ┆ score ┆ id_left  │\n",
       "│ ---              ┆ ---      ┆ ---   ┆ ---      │\n",
       "│ str              ┆ str      ┆ f64   ┆ str      │\n",
       "╞══════════════════╪══════════╪═══════╪══════════╡\n",
       "│ c3663a2d315bdafd ┆ 315bdafd ┆ 0.5   ┆ c3663a2d │\n",
       "│ 3bda31e6c3663a2d ┆ c3663a2d ┆ 0.5   ┆ 3bda31e6 │\n",
       "│ 1ebb9b743bda31e6 ┆ 3bda31e6 ┆ 0.5   ┆ 1ebb9b74 │\n",
       "│ 40b285081ebb9b74 ┆ 1ebb9b74 ┆ 0.5   ┆ 40b28508 │\n",
       "│ 95acfe175a3f0d07 ┆ 5a3f0d07 ┆ 1.0   ┆ 95acfe17 │\n",
       "└──────────────────┴──────────┴───────┴──────────┘"
      ]
     },
     "execution_count": 26,
     "metadata": {},
     "output_type": "execute_result"
    }
   ],
   "source": [
    "# sort essays by score, word count and event count to have similar essays next to each other\n",
    "# then shift the id column by one to match each essay with the next one\n",
    "same_score_pairs = (\n",
    "    essays\n",
    "    .sort(\"score\", \"word_count\", \"event_count\")\n",
    "    .select(\n",
    "        \"id\", pl.col(\"id\").shift().alias(\"id_right\"), \"score\", pl.col(\"score\").shift().alias(\"score_right\"),\n",
    "    )\n",
    "    .filter(pl.col(\"score\").eq(pl.col(\"score_right\")))\n",
    "    .select(\"id\", \"id_right\", \"score\")\n",
    "    .with_columns(\n",
    "        pl.col(\"id\").alias(\"id_left\"),\n",
    "        (pl.col(\"id\") + pl.col(\"id_right\")).alias(\"id\")\n",
    "    )\n",
    ")\n",
    "\n",
    "print(f\"Additional training samples with same scores: {len(same_score_pairs)*2}\")\n",
    "same_score_pairs.head(5)"
   ]
  },
  {
   "cell_type": "code",
   "execution_count": 27,
   "metadata": {},
   "outputs": [
    {
     "name": "stdout",
     "output_type": "stream",
     "text": [
      "Additional training samples with mixed scores: 4868\n"
     ]
    },
    {
     "data": {
      "text/html": [
       "<div><style>\n",
       ".dataframe > thead > tr > th,\n",
       ".dataframe > tbody > tr > td {\n",
       "  text-align: right;\n",
       "  white-space: pre-wrap;\n",
       "}\n",
       "</style>\n",
       "<small>shape: (5, 4)</small><table border=\"1\" class=\"dataframe\"><thead><tr><th>id</th><th>id_right</th><th>score</th><th>id_left</th></tr><tr><td>str</td><td>str</td><td>f64</td><td>str</td></tr></thead><tbody><tr><td>&quot;361ba892118357…</td><td>&quot;1183579c&quot;</td><td>3.25</td><td>&quot;361ba892&quot;</td></tr><tr><td>&quot;473d1159793e50…</td><td>&quot;793e5089&quot;</td><td>3.25</td><td>&quot;473d1159&quot;</td></tr><tr><td>&quot;f3fcf7ad5327ff…</td><td>&quot;5327ff63&quot;</td><td>4.75</td><td>&quot;f3fcf7ad&quot;</td></tr><tr><td>&quot;8cfca5271acb2b…</td><td>&quot;1acb2b61&quot;</td><td>4.75</td><td>&quot;8cfca527&quot;</td></tr><tr><td>&quot;6b2a19374e21e1…</td><td>&quot;4e21e149&quot;</td><td>5.25</td><td>&quot;6b2a1937&quot;</td></tr></tbody></table></div>"
      ],
      "text/plain": [
       "shape: (5, 4)\n",
       "┌──────────────────┬──────────┬───────┬──────────┐\n",
       "│ id               ┆ id_right ┆ score ┆ id_left  │\n",
       "│ ---              ┆ ---      ┆ ---   ┆ ---      │\n",
       "│ str              ┆ str      ┆ f64   ┆ str      │\n",
       "╞══════════════════╪══════════╪═══════╪══════════╡\n",
       "│ 361ba8921183579c ┆ 1183579c ┆ 3.25  ┆ 361ba892 │\n",
       "│ 473d1159793e5089 ┆ 793e5089 ┆ 3.25  ┆ 473d1159 │\n",
       "│ f3fcf7ad5327ff63 ┆ 5327ff63 ┆ 4.75  ┆ f3fcf7ad │\n",
       "│ 8cfca5271acb2b61 ┆ 1acb2b61 ┆ 4.75  ┆ 8cfca527 │\n",
       "│ 6b2a19374e21e149 ┆ 4e21e149 ┆ 5.25  ┆ 6b2a1937 │\n",
       "└──────────────────┴──────────┴───────┴──────────┘"
      ]
     },
     "execution_count": 27,
     "metadata": {},
     "output_type": "execute_result"
    }
   ],
   "source": [
    "worse_essays = (\n",
    "    essays\n",
    "    .with_columns(\n",
    "        pl.col(\"score\").alias(\"original_score\"),\n",
    "        pl.col(\"score\")+0.25,\n",
    "        (pl.col(\"word_count\")+pl.col(\"event_count\").truediv(pl.col(\"event_count\").max())).alias(\"word_event_count\")\n",
    "    )\n",
    "    .sort(\"word_event_count\")\n",
    ")\n",
    "\n",
    "better_essays = worse_essays.with_columns(pl.col(\"score\")-0.5)\n",
    "\n",
    "mixed_score_pairs = (\n",
    "    worse_essays\n",
    "    .join_asof(better_essays, by=\"score\", on=\"word_event_count\", strategy=\"nearest\")\n",
    "    .filter(pl.col(\"id_right\").is_not_null())\n",
    "    .select(\"id\", \"id_right\", \"score\")\n",
    "    .with_columns(\n",
    "        pl.col(\"id\").alias(\"id_left\"),\n",
    "        (pl.col(\"id\") + pl.col(\"id_right\")).alias(\"id\")\n",
    "    )\n",
    ")\n",
    "\n",
    "print(f\"Additional training samples with mixed scores: {len(mixed_score_pairs)*2}\")\n",
    "mixed_score_pairs.sample(5)"
   ]
  },
  {
   "cell_type": "code",
   "execution_count": 66,
   "metadata": {},
   "outputs": [
    {
     "data": {
      "text/plain": [
       "4190760"
      ]
     },
     "execution_count": 66,
     "metadata": {},
     "output_type": "execute_result"
    }
   ],
   "source": [
    "same_score_pairs_left_logs = (\n",
    "    same_score_pairs\n",
    "    .join(logs, left_on=\"id_left\", right_on=\"id\")\n",
    "    .filter(pl.col(\"event_id\").lt(pl.col(\"event_id\").max().over(\"id\").truediv(2)))\n",
    "    .with_columns(pl.lit(\"left\").alias(\"side\"))\n",
    ")\n",
    "len(same_score_pairs_left_logs)"
   ]
  },
  {
   "cell_type": "code",
   "execution_count": 68,
   "metadata": {},
   "outputs": [
    {
     "data": {
      "text/plain": [
       "4164102"
      ]
     },
     "execution_count": 68,
     "metadata": {},
     "output_type": "execute_result"
    }
   ],
   "source": [
    "same_score_pairs_right_logs = (\n",
    "    same_score_pairs\n",
    "    .join(logs, left_on=\"id_right\", right_on=\"id\")\n",
    "    .filter(pl.col(\"event_id\").gt(pl.col(\"event_id\").max().over(\"id\").truediv(2)))\n",
    "    .with_columns(pl.lit(\"right\").alias(\"side\"))\n",
    ")\n",
    "len(same_score_pairs_right_logs)"
   ]
  },
  {
   "cell_type": "code",
   "execution_count": 118,
   "metadata": {},
   "outputs": [],
   "source": [
    "new_logs = (\n",
    "    pl.concat([same_score_pairs_left_logs, same_score_pairs_right_logs])\n",
    "    .with_columns(\n",
    "        (pl.col(\"event_id\")-pl.col(\"event_id\").shift()).alias(\"event_id_delta\"),\n",
    "        pl.col(\"event_id\").filter(pl.col(\"side\").eq(\"left\")).max().over(\"id\").alias(\"max_left_event_id\"),\n",
    "        pl.col(\"event_id\").filter(pl.col(\"side\").eq(\"right\")).min().over(\"id\").alias(\"min_right_event_id\"),\n",
    "    )\n",
    "    .with_columns(\n",
    "        pl.when(pl.col(\"side\").eq(\"left\"))\n",
    "        .then(pl.col(\"event_id\"))\n",
    "        .otherwise(pl.col(\"event_id\")-pl.col(\"min_right_event_id\")+pl.col(\"max_left_event_id\")+1).alias(\"event_id\")\n",
    "    )\n",
    "    .sort(\"id\", \"event_id\")\n",
    "    .with_columns(\n",
    "        (pl.col(\"down_time\")-pl.col(\"down_time\").shift()).alias(\"time_delta\"),\n",
    "        (pl.col(\"word_count\")-pl.col(\"word_count\").shift()).alias(\"word_delta\")\n",
    "    )\n",
    "    .with_columns(\n",
    "        pl.when(pl.col(\"time_delta\").lt(0))\n",
    "        .then(pl.col(\"time_delta\").filter(pl.col(\"time_delta\").ge(0)).mean())\n",
    "        .otherwise(pl.col(\"time_delta\")).cast(pl.Int64).alias(\"time_delta\"),\n",
    "        pl.col(\"word_delta\").clip(lower_bound=0)\n",
    "    )\n",
    "    .with_columns(\n",
    "        pl.col(\"time_delta\").cumsum().over(\"id\", \"side\").alias(\"side_time\"),\n",
    "        pl.col(\"down_time\").filter(pl.col(\"side\").eq(\"left\")).max().over(\"id\").alias(\"max_left_down_time\"),\n",
    "        pl.col(\"word_delta\").cumsum().over(\"id\", \"side\").alias(\"side_word\"),\n",
    "        pl.col(\"word_count\").filter(pl.col(\"side\").eq(\"left\")).max().over(\"id\").alias(\"max_left_word_count\"),\n",
    "    )\n",
    "    .with_columns(\n",
    "        pl.when(pl.col(\"side\").eq(\"right\"))\n",
    "        .then(pl.col(\"side_time\")+pl.col(\"max_left_down_time\"))\n",
    "        .otherwise(pl.col(\"down_time\"))\n",
    "        .alias(\"down_time\"),\n",
    "        pl.when(pl.col(\"side\").eq(\"right\"))\n",
    "        .then(pl.col(\"side_word\")+pl.col(\"max_left_word_count\"))\n",
    "        .otherwise(pl.col(\"word_count\"))\n",
    "        .alias(\"word_count\")\n",
    "    )\n",
    "    .with_columns(\n",
    "        (pl.col(\"down_time\") + pl.col(\"action_time\")).alias(\"up_time\")\n",
    "    )\n",
    "    .drop(\"event_id_delta\", \"max_left_event_id\", \"min_right_event_id\", \"side_time\", \"max_left_down_time\", \"time_delta\", \"side\", \"id_right\", \"id_left\", \"word_delta\", \"side_word\", \"max_left_word_count\")\n",
    ")"
   ]
  },
  {
   "cell_type": "code",
   "execution_count": 119,
   "metadata": {},
   "outputs": [
    {
     "data": {
      "text/html": [
       "<div><style>\n",
       ".dataframe > thead > tr > th,\n",
       ".dataframe > tbody > tr > td {\n",
       "  text-align: right;\n",
       "  white-space: pre-wrap;\n",
       "}\n",
       "</style>\n",
       "<small>shape: (11, 12)</small><table border=\"1\" class=\"dataframe\"><thead><tr><th>id</th><th>score</th><th>event_id</th><th>down_time</th><th>up_time</th><th>action_time</th><th>activity</th><th>down_event</th><th>up_event</th><th>text_change</th><th>cursor_position</th><th>word_count</th></tr><tr><td>str</td><td>f64</td><td>i64</td><td>i64</td><td>i64</td><td>i64</td><td>str</td><td>str</td><td>str</td><td>str</td><td>i64</td><td>i64</td></tr></thead><tbody><tr><td>&quot;95acfe175a3f0d…</td><td>1.0</td><td>210</td><td>277844</td><td>277899</td><td>55</td><td>&quot;Input&quot;</td><td>&quot;q&quot;</td><td>&quot;q&quot;</td><td>&quot;q&quot;</td><td>180</td><td>35</td></tr><tr><td>&quot;95acfe175a3f0d…</td><td>1.0</td><td>211</td><td>278020</td><td>278061</td><td>41</td><td>&quot;Input&quot;</td><td>&quot;q&quot;</td><td>&quot;q&quot;</td><td>&quot;q&quot;</td><td>181</td><td>35</td></tr><tr><td>&quot;95acfe175a3f0d…</td><td>1.0</td><td>212</td><td>278204</td><td>278267</td><td>63</td><td>&quot;Input&quot;</td><td>&quot;Space&quot;</td><td>&quot;Space&quot;</td><td>&quot; &quot;</td><td>182</td><td>35</td></tr><tr><td>&quot;95acfe175a3f0d…</td><td>1.0</td><td>213</td><td>279461</td><td>279523</td><td>62</td><td>&quot;Input&quot;</td><td>&quot;q&quot;</td><td>&quot;q&quot;</td><td>&quot;q&quot;</td><td>183</td><td>36</td></tr><tr><td>&quot;95acfe175a3f0d…</td><td>1.0</td><td>214</td><td>280012</td><td>280091</td><td>79</td><td>&quot;Input&quot;</td><td>&quot;q&quot;</td><td>&quot;q&quot;</td><td>&quot;q&quot;</td><td>127</td><td>36</td></tr><tr><td>&quot;95acfe175a3f0d…</td><td>1.0</td><td>215</td><td>280140</td><td>280236</td><td>96</td><td>&quot;Input&quot;</td><td>&quot;q&quot;</td><td>&quot;q&quot;</td><td>&quot;q&quot;</td><td>128</td><td>36</td></tr><tr><td>&quot;95acfe175a3f0d…</td><td>1.0</td><td>216</td><td>280324</td><td>280412</td><td>88</td><td>&quot;Input&quot;</td><td>&quot;q&quot;</td><td>&quot;q&quot;</td><td>&quot;q&quot;</td><td>129</td><td>36</td></tr><tr><td>&quot;95acfe175a3f0d…</td><td>1.0</td><td>217</td><td>283173</td><td>283229</td><td>56</td><td>&quot;Input&quot;</td><td>&quot;.&quot;</td><td>&quot;.&quot;</td><td>&quot;.&quot;</td><td>130</td><td>36</td></tr><tr><td>&quot;95acfe175a3f0d…</td><td>1.0</td><td>218</td><td>283349</td><td>283405</td><td>56</td><td>&quot;Input&quot;</td><td>&quot;Space&quot;</td><td>&quot;Space&quot;</td><td>&quot; &quot;</td><td>131</td><td>36</td></tr><tr><td>&quot;95acfe175a3f0d…</td><td>1.0</td><td>219</td><td>288199</td><td>288294</td><td>95</td><td>&quot;Nonproduction&quot;</td><td>&quot;CapsLock&quot;</td><td>&quot;CapsLock&quot;</td><td>&quot;NoChange&quot;</td><td>131</td><td>36</td></tr><tr><td>&quot;95acfe175a3f0d…</td><td>1.0</td><td>220</td><td>288325</td><td>288381</td><td>56</td><td>&quot;Input&quot;</td><td>&quot;q&quot;</td><td>&quot;q&quot;</td><td>&quot;q&quot;</td><td>132</td><td>37</td></tr></tbody></table></div>"
      ],
      "text/plain": [
       "shape: (11, 12)\n",
       "┌─────────────┬───────┬──────────┬───────────┬───┬──────────┬────────────┬────────────┬────────────┐\n",
       "│ id          ┆ score ┆ event_id ┆ down_time ┆ … ┆ up_event ┆ text_chang ┆ cursor_pos ┆ word_count │\n",
       "│ ---         ┆ ---   ┆ ---      ┆ ---       ┆   ┆ ---      ┆ e          ┆ ition      ┆ ---        │\n",
       "│ str         ┆ f64   ┆ i64      ┆ i64       ┆   ┆ str      ┆ ---        ┆ ---        ┆ i64        │\n",
       "│             ┆       ┆          ┆           ┆   ┆          ┆ str        ┆ i64        ┆            │\n",
       "╞═════════════╪═══════╪══════════╪═══════════╪═══╪══════════╪════════════╪════════════╪════════════╡\n",
       "│ 95acfe175a3 ┆ 1.0   ┆ 210      ┆ 277844    ┆ … ┆ q        ┆ q          ┆ 180        ┆ 35         │\n",
       "│ f0d07       ┆       ┆          ┆           ┆   ┆          ┆            ┆            ┆            │\n",
       "│ 95acfe175a3 ┆ 1.0   ┆ 211      ┆ 278020    ┆ … ┆ q        ┆ q          ┆ 181        ┆ 35         │\n",
       "│ f0d07       ┆       ┆          ┆           ┆   ┆          ┆            ┆            ┆            │\n",
       "│ 95acfe175a3 ┆ 1.0   ┆ 212      ┆ 278204    ┆ … ┆ Space    ┆            ┆ 182        ┆ 35         │\n",
       "│ f0d07       ┆       ┆          ┆           ┆   ┆          ┆            ┆            ┆            │\n",
       "│ 95acfe175a3 ┆ 1.0   ┆ 213      ┆ 279461    ┆ … ┆ q        ┆ q          ┆ 183        ┆ 36         │\n",
       "│ f0d07       ┆       ┆          ┆           ┆   ┆          ┆            ┆            ┆            │\n",
       "│ …           ┆ …     ┆ …        ┆ …         ┆ … ┆ …        ┆ …          ┆ …          ┆ …          │\n",
       "│ 95acfe175a3 ┆ 1.0   ┆ 217      ┆ 283173    ┆ … ┆ .        ┆ .          ┆ 130        ┆ 36         │\n",
       "│ f0d07       ┆       ┆          ┆           ┆   ┆          ┆            ┆            ┆            │\n",
       "│ 95acfe175a3 ┆ 1.0   ┆ 218      ┆ 283349    ┆ … ┆ Space    ┆            ┆ 131        ┆ 36         │\n",
       "│ f0d07       ┆       ┆          ┆           ┆   ┆          ┆            ┆            ┆            │\n",
       "│ 95acfe175a3 ┆ 1.0   ┆ 219      ┆ 288199    ┆ … ┆ CapsLock ┆ NoChange   ┆ 131        ┆ 36         │\n",
       "│ f0d07       ┆       ┆          ┆           ┆   ┆          ┆            ┆            ┆            │\n",
       "│ 95acfe175a3 ┆ 1.0   ┆ 220      ┆ 288325    ┆ … ┆ q        ┆ q          ┆ 132        ┆ 37         │\n",
       "│ f0d07       ┆       ┆          ┆           ┆   ┆          ┆            ┆            ┆            │\n",
       "└─────────────┴───────┴──────────┴───────────┴───┴──────────┴────────────┴────────────┴────────────┘"
      ]
     },
     "execution_count": 119,
     "metadata": {},
     "output_type": "execute_result"
    }
   ],
   "source": [
    "new_logs.filter(pl.col(\"id\").str.starts_with(\"95acfe175a\")).filter(pl.col(\"event_id\").is_between(210, 220))"
   ]
  },
  {
   "cell_type": "code",
   "execution_count": null,
   "metadata": {},
   "outputs": [],
   "source": []
  }
 ],
 "metadata": {
  "kernelspec": {
   "display_name": "venv",
   "language": "python",
   "name": "python3"
  },
  "language_info": {
   "codemirror_mode": {
    "name": "ipython",
    "version": 3
   },
   "file_extension": ".py",
   "mimetype": "text/x-python",
   "name": "python",
   "nbconvert_exporter": "python",
   "pygments_lexer": "ipython3",
   "version": "3.10.13"
  }
 },
 "nbformat": 4,
 "nbformat_minor": 2
}
