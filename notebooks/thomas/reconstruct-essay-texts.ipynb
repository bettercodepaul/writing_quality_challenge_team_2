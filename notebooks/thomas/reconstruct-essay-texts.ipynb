{
 "cells": [
  {
   "cell_type": "code",
   "execution_count": null,
   "metadata": {},
   "outputs": [],
   "source": [
    "import os\n",
    "import polars as pl"
   ]
  },
  {
   "cell_type": "code",
   "execution_count": null,
   "metadata": {},
   "outputs": [],
   "source": [
    "kaggle_run_type = os.environ.get('KAGGLE_KERNEL_RUN_TYPE', None)\n",
    "if kaggle_run_type:\n",
    "    DATA_PATH = \"/kaggle/input/linking-writing-processes-to-writing-quality\"\n",
    "else:\n",
    "    DATA_PATH = \"../../data\""
   ]
  },
  {
   "cell_type": "code",
   "execution_count": null,
   "metadata": {},
   "outputs": [],
   "source": [
    "logs = pl.read_csv(f\"{DATA_PATH}/train_logs.csv\")"
   ]
  },
  {
   "cell_type": "code",
   "execution_count": null,
   "metadata": {},
   "outputs": [],
   "source": [
    "logs.sample(3)"
   ]
  },
  {
   "cell_type": "code",
   "execution_count": null,
   "metadata": {},
   "outputs": [],
   "source": [
    "def reconstruct_essay_text(single_log):\n",
    "    essay_text = \"\"\n",
    "    single_log = (\n",
    "        single_log\n",
    "        .filter(pl.col(\"activity\").ne(\"Nonproduction\"))\n",
    "        .select(\"activity\", \"text_change\", \"cursor_position\")\n",
    "    )\n",
    "    for row in single_log.iter_rows():\n",
    "        activity = row[0]\n",
    "        text_change = row[1]\n",
    "        pos = row[2]\n",
    "        \n",
    "        if activity==\"Input\":\n",
    "            input_text = text_change\n",
    "            input_len = len(input_text)\n",
    "            essay_text = f\"{essay_text[:pos - input_len]}{input_text}{essay_text[pos - input_len:]}\"\n",
    "        elif activity==\"Remove/Cut\":\n",
    "            removed_text = text_change\n",
    "            removed_len = len(removed_text)\n",
    "            essay_text = f\"{essay_text[:pos]}{essay_text[pos + removed_len:]}\"\n",
    "        elif activity==\"Replace\":\n",
    "            removed_text, input_text = text_change.split(\" => \")\n",
    "            removed_len = len(removed_text)\n",
    "            input_len = len(input_text)\n",
    "            essay_text = f\"{essay_text[:pos - input_len]}{input_text}{essay_text[pos + removed_len - input_len:]}\"\n",
    "        elif activity==\"Paste\":\n",
    "            input_text = text_change\n",
    "            input_len = len(input_text)\n",
    "            essay_text = f\"{essay_text[:pos - input_len]}{input_text}{essay_text[pos - input_len:]}\"\n",
    "        elif activity[:10]==\"Move From \":\n",
    "            move_from, move_to = activity[10:].split(\" To \")\n",
    "            start_pos, end_pos = [int(x) for x in move_from[1:-1].split(\", \")]\n",
    "            target_pos, _ = [int(x) for x in move_to[1:-1].split(\", \")]\n",
    "            moved_text = text_change\n",
    "            moved_len = len(text_change)\n",
    "            essay_text = f\"{essay_text[:start_pos]}{essay_text[end_pos:]}\"\n",
    "            essay_text = f\"{essay_text[:target_pos]}{moved_text}{essay_text[target_pos:]}\"\n",
    "    return(essay_text)"
   ]
  },
  {
   "cell_type": "markdown",
   "metadata": {},
   "source": [
    "Reconstructing all essays"
   ]
  },
  {
   "cell_type": "code",
   "execution_count": null,
   "metadata": {},
   "outputs": [],
   "source": [
    "essays = {}\n",
    "\n",
    "for essay_id in logs.select(pl.col(\"id\").unique())[\"id\"]:\n",
    "    essay_text = reconstruct_essay_text(logs.filter(pl.col(\"id\").eq(essay_id)))\n",
    "    essays[essay_id] = essay_text\n",
    "\n",
    "essays"
   ]
  },
  {
   "cell_type": "markdown",
   "metadata": {},
   "source": [
    "The punctuation marks might be an indicator for the complexity of the essay."
   ]
  },
  {
   "cell_type": "code",
   "execution_count": null,
   "metadata": {},
   "outputs": [],
   "source": [
    "essays[\"e58d9b29\"].replace(\"q\", \"\").replace(\" \", \"\")"
   ]
  },
  {
   "cell_type": "code",
   "execution_count": null,
   "metadata": {},
   "outputs": [],
   "source": [
    "essays[\"5b3282ec\"].replace(\"q\", \"\").replace(\" \", \"\")"
   ]
  }
 ],
 "metadata": {
  "kernelspec": {
   "display_name": "venv",
   "language": "python",
   "name": "python3"
  },
  "language_info": {
   "codemirror_mode": {
    "name": "ipython",
    "version": 3
   },
   "file_extension": ".py",
   "mimetype": "text/x-python",
   "name": "python",
   "nbconvert_exporter": "python",
   "pygments_lexer": "ipython3",
   "version": "3.10.11"
  }
 },
 "nbformat": 4,
 "nbformat_minor": 2
}
