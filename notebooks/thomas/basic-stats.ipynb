{
 "cells": [
  {
   "cell_type": "code",
   "execution_count": null,
   "metadata": {},
   "outputs": [],
   "source": [
    "import os\n",
    "import polars as pl\n",
    "import plotly.express as px"
   ]
  },
  {
   "cell_type": "code",
   "execution_count": null,
   "metadata": {},
   "outputs": [],
   "source": [
    "kaggle_run_type = os.environ.get('KAGGLE_KERNEL_RUN_TYPE', None)\n",
    "if kaggle_run_type:\n",
    "    DATA_PATH = \"/kaggle/input/linking-writing-processes-to-writing-quality\"\n",
    "else:\n",
    "    DATA_PATH = \"../../data\""
   ]
  },
  {
   "cell_type": "code",
   "execution_count": null,
   "metadata": {},
   "outputs": [],
   "source": [
    "logs = pl.read_csv(f\"{DATA_PATH}/train_logs.csv\")\n",
    "scores = pl.read_csv(f\"{DATA_PATH}/train_scores.csv\")"
   ]
  },
  {
   "cell_type": "code",
   "execution_count": null,
   "metadata": {},
   "outputs": [],
   "source": [
    "logs.sample(3)"
   ]
  },
  {
   "cell_type": "code",
   "execution_count": null,
   "metadata": {},
   "outputs": [],
   "source": [
    "scores.sample(3)"
   ]
  },
  {
   "cell_type": "code",
   "execution_count": null,
   "metadata": {},
   "outputs": [],
   "source": [
    "essay_stats = (\n",
    "    logs\n",
    "    .sort(\"event_id\")\n",
    "    .group_by(\"id\")\n",
    "    .agg(\n",
    "        pl.col(\"word_count\").last(),\n",
    "        (pl.col(\"up_time\").max() - pl.col(\"down_time\").min()).alias(\"write_duration\"),\n",
    "        pl.col(\"event_id\").count().alias(\"event_count\")\n",
    "    )\n",
    "    .with_columns(\n",
    "        (pl.col(\"write_duration\")/pl.col(\"event_count\")).alias(\"frequency\")\n",
    "    )\n",
    "    .join(scores, on=\"id\")\n",
    ")"
   ]
  },
  {
   "cell_type": "code",
   "execution_count": null,
   "metadata": {},
   "outputs": [],
   "source": [
    "px.scatter(\n",
    "    essay_stats,\n",
    "    x = \"write_duration\",\n",
    "    y = \"score\",\n",
    "    opacity = 0.2\n",
    ")"
   ]
  },
  {
   "cell_type": "code",
   "execution_count": null,
   "metadata": {},
   "outputs": [],
   "source": [
    "px.scatter(\n",
    "    essay_stats,\n",
    "    x = \"word_count\",\n",
    "    y = \"score\",\n",
    "    opacity = 0.2\n",
    ")"
   ]
  },
  {
   "cell_type": "code",
   "execution_count": null,
   "metadata": {},
   "outputs": [],
   "source": [
    "px.scatter(\n",
    "    essay_stats,\n",
    "    x = \"event_count\",\n",
    "    y = \"score\",\n",
    "    opacity = 0.2\n",
    ")"
   ]
  },
  {
   "cell_type": "code",
   "execution_count": null,
   "metadata": {},
   "outputs": [],
   "source": [
    "px.scatter(\n",
    "    essay_stats,\n",
    "    x = \"frequency\",\n",
    "    y = \"score\",\n",
    "    opacity = 0.1\n",
    ")"
   ]
  }
 ],
 "metadata": {
  "kernelspec": {
   "display_name": "venv",
   "language": "python",
   "name": "python3"
  },
  "language_info": {
   "codemirror_mode": {
    "name": "ipython",
    "version": 3
   },
   "file_extension": ".py",
   "mimetype": "text/x-python",
   "name": "python",
   "nbconvert_exporter": "python",
   "pygments_lexer": "ipython3",
   "version": "3.10.11"
  }
 },
 "nbformat": 4,
 "nbformat_minor": 2
}
